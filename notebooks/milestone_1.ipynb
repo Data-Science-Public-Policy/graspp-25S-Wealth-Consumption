{
 "cells": [
  {
   "cell_type": "markdown",
   "id": "128cddc3",
   "metadata": {},
   "source": [
    "# ADD YOUR VIZ HERE"
   ]
  },
  {
   "cell_type": "code",
   "execution_count": 1,
   "id": "652c1f56-f9d3-44bb-b311-54fe86023142",
   "metadata": {},
   "outputs": [],
   "source": [
    "import os\n",
    "os.chdir(\"../..\")"
   ]
  },
  {
   "cell_type": "code",
   "execution_count": 2,
   "id": "eb5db10b-0257-41bc-b77b-21a0baceb21f",
   "metadata": {},
   "outputs": [
    {
     "ename": "SyntaxError",
     "evalue": "invalid syntax (4113263141.py, line 1)",
     "output_type": "error",
     "traceback": [
      "  \u001b[36mCell\u001b[39m\u001b[36m \u001b[39m\u001b[32mIn[2]\u001b[39m\u001b[32m, line 1\u001b[39m\n\u001b[31m    \u001b[39m\u001b[31mfrom src.download_data import FUNCTIONS TO IMPORT\u001b[39m\n                                            ^\n\u001b[31mSyntaxError\u001b[39m\u001b[31m:\u001b[39m invalid syntax\n"
     ]
    }
   ],
   "source": [
    "from src.download_data import FUNCTIONS TO IMPORT"
   ]
  },
  {
   "cell_type": "markdown",
   "id": "724d0469",
   "metadata": {},
   "source": []
  },
  {
   "cell_type": "code",
   "execution_count": null,
   "id": "847dbce6",
   "metadata": {},
   "outputs": [],
   "source": []
  }
 ],
 "metadata": {
  "kernelspec": {
   "display_name": "Python 3 (ipykernel)",
   "language": "python",
   "name": "python3"
  },
  "language_info": {
   "codemirror_mode": {
    "name": "ipython",
    "version": 3
   },
   "file_extension": ".py",
   "mimetype": "text/x-python",
   "name": "python",
   "nbconvert_exporter": "python",
   "pygments_lexer": "ipython3",
   "version": "3.12.7"
  }
 },
 "nbformat": 4,
 "nbformat_minor": 5
}
