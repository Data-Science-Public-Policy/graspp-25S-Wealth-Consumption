{
 "cells": [
  {
   "cell_type": "markdown",
   "id": "128cddc3",
   "metadata": {},
   "source": []
  },
  {
   "cell_type": "markdown",
   "id": "e7d694a8",
   "metadata": {},
   "source": []
  },
  {
   "cell_type": "markdown",
   "id": "724d0469",
   "metadata": {},
   "source": []
  },
  {
   "cell_type": "code",
   "execution_count": null,
   "id": "847dbce6",
   "metadata": {},
   "outputs": [],
   "source": []
  }
 ],
 "metadata": {
  "language_info": {
   "name": "python"
  }
 },
 "nbformat": 4,
 "nbformat_minor": 5
}
