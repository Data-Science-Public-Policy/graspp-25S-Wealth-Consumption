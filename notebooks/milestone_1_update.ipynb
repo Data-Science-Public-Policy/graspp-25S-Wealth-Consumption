{
 "cells": [
  {
   "cell_type": "markdown",
   "id": "128cddc3",
   "metadata": {},
   "source": [
<<<<<<< HEAD
    "# 1 Import Data\n"
=======
    "# ADD YOUR VIZ HERE"
>>>>>>> 5546384eff999cc226cd2052f71671bc6f2ba05f
   ]
  },
  {
   "cell_type": "code",
   "execution_count": 1,
<<<<<<< HEAD
   "id": "6b13e3ee",
   "metadata": {},
   "outputs": [],
   "source": [
    " #Make sure to install ecbdata first\n",
    " #Run this line in terminal if not installed:\n",
    " #pip install ecbdata"
   ]
=======
   "id": "652c1f56-f9d3-44bb-b311-54fe86023142",
   "metadata": {},
   "outputs": [],
   "source": [
    "import os\n",
    "os.chdir(\"../..\")"
   ]
  },
  {
   "cell_type": "code",
   "execution_count": 2,
   "id": "eb5db10b-0257-41bc-b77b-21a0baceb21f",
   "metadata": {},
   "outputs": [
    {
     "ename": "SyntaxError",
     "evalue": "invalid syntax (4113263141.py, line 1)",
     "output_type": "error",
     "traceback": [
      "  \u001b[36mCell\u001b[39m\u001b[36m \u001b[39m\u001b[32mIn[2]\u001b[39m\u001b[32m, line 1\u001b[39m\n\u001b[31m    \u001b[39m\u001b[31mfrom src.download_data import FUNCTIONS TO IMPORT\u001b[39m\n                                            ^\n\u001b[31mSyntaxError\u001b[39m\u001b[31m:\u001b[39m invalid syntax\n"
     ]
    }
   ],
   "source": [
    "from src.download_data import FUNCTIONS TO IMPORT"
   ]
  },
  {
   "cell_type": "markdown",
   "id": "724d0469",
   "metadata": {},
   "source": []
>>>>>>> 5546384eff999cc226cd2052f71671bc6f2ba05f
  },
  {
   "cell_type": "code",
   "execution_count": null,
   "id": "872c80ac",
   "metadata": {},
   "outputs": [],
   "source": [
    "import pandas as pd\n",
    "from ecbdata import ecbdata\n",
    "import matplotlib.pyplot as plt\n",
    "#Download the data and save \n",
    "df = ecbdata.get_series('MNA.Q.Y.I9.W0.S1M.S1.D.P31._Z._Z._T.EUR.V.N')\n",
    "df1 = ecbdata.get_series('DWA.Q.I9.S14.A.LE.NUN.HST.EUR.S.N')\n",
    "df.to_csv(\"D:/utokyo/python/graspp-25S-Wealth-Consumption/src/raw data/consumption.csv\")\n",
    "df1.to_csv(\"D:/utokyo/python/graspp-25S-Wealth-Consumption/src/raw data/housing-wealth.csv\") \n",
    "##I think it should be modified to save them somewhere in github,please help me to change"
   ]
  },
  {
   "cell_type": "markdown",
   "id": "814f4856",
   "metadata": {},
   "source": [
    "# 2 Manipulate the data"
   ]
  },
  {
   "cell_type": "code",
   "execution_count": null,
   "id": "0884c4cd",
   "metadata": {},
   "outputs": [],
   "source": [
    "#Manipulate to what we want\n",
    "data = df[['TIME_PERIOD','OBS_VALUE','UNIT_MEASURE']].dropna()\n",
    "data.head(2)\n",
    "data = data.rename({'TIME_PERIOD' : 'date','OBS_VALUE':'consumption'},axis=1)\n",
    "data.date = pd.PeriodIndex(data.date, freq='Q').to_timestamp()\n",
    "data = data[(data['date'] >= '2009-01-01') & (data['date']<= '2024-07-01')]\n",
    "\n",
    "\n",
    "data1= df1[['TIME_PERIOD','OBS_VALUE','UNIT_MEASURE']].dropna()\n",
    "data1 = data1.rename({'TIME_PERIOD' : 'date','OBS_VALUE':'housing wealth'},axis=1)\n",
    "data1.date = pd.PeriodIndex(data1.date, freq='Q').to_timestamp()\n",
    "data1 = data1[(data1['date'] >= '2009-01-01') & (data1['date']<= '2024-07-01')]"
   ]
  },
  {
   "cell_type": "markdown",
   "id": "191e2d17",
   "metadata": {},
   "source": [
    "# 3 Merge the data and present it in figure"
   ]
  },
  {
   "cell_type": "code",
   "execution_count": null,
   "id": "3005c948",
   "metadata": {},
   "outputs": [],
   "source": [
    "#Merge and present\n",
    "df_merge = pd.merge(\n",
    "    data, data1,\n",
    "    \n",
    "    how='inner', on =['date','UNIT_MEASURE']\n",
    "    \n",
    ")\n",
    "df_merge.head(10)\n",
    "\n",
    "plt.figure(figsize=(10, 6))\n",
    "plt.plot(df_merge['date'], df_merge['consumption'], label='Consumption')\n",
    "plt.plot(df_merge['date'], df_merge['housing wealth'], label='Housing wealth')\n",
    "plt.xlabel('Date')\n",
    "plt.ylabel('EUR')\n",
    "plt.title('Consumption and housing wealth Over Time')\n",
    "plt.grid(True)\n",
    "plt.legend()\n",
    "plt.xticks(rotation=45)\n",
    "plt.tight_layout()\n",
    "plt.show()"
   ]
  },
  {
   "cell_type": "markdown",
   "id": "6bf4b0b7",
   "metadata": {},
   "source": [
    "# 4 Descriptive Statistics"
   ]
  },
  {
   "cell_type": "code",
   "execution_count": null,
   "id": "b9b2e1a8",
   "metadata": {},
   "outputs": [],
   "source": [
    "# Descriptive statistics\n",
    "plt.figure()\n",
    "plt.title('Consumption')\n",
    "df_merge['consumption'].describe().drop(['count'],axis=0).plot(kind ='bar')\n",
    "plt.figure()\n",
    "plt.title('Housing wealth')\n",
    "df_merge['housing wealth'].describe().drop(['count'],axis=0).plot(kind ='bar')\n"
   ]
  }
 ],
 "metadata": {
  "kernelspec": {
   "display_name": "Python 3 (ipykernel)",
   "language": "python",
   "name": "python3"
  },
  "language_info": {
   "codemirror_mode": {
    "name": "ipython",
    "version": 3
   },
   "file_extension": ".py",
   "mimetype": "text/x-python",
   "name": "python",
   "nbconvert_exporter": "python",
   "pygments_lexer": "ipython3",
<<<<<<< HEAD
   "version": "3.9.13"
=======
   "version": "3.12.7"
>>>>>>> 5546384eff999cc226cd2052f71671bc6f2ba05f
  }
 },
 "nbformat": 4,
 "nbformat_minor": 5
}
