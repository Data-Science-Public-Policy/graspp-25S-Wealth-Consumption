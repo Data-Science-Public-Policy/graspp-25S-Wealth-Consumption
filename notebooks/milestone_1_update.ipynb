{
 "cells": [
  {
   "cell_type": "markdown",
   "id": "128cddc3",
   "metadata": {},
   "source": [
    "# Mailstone_1"
   ]
  },
  {
   "cell_type": "markdown",
   "id": "addb9cd1",
   "metadata": {},
   "source": [
    "# Research Question\n",
    "\n",
    "- Does household consume more when their wealth increases? \n",
    "- We are interested in the relationship between household wealth and private consumption. We expect to identify a positive relationship between consumption and wealth, using data for EU zone 20 countries, and Japan. \n",
    "- Our methodology is OLS regression, and we aim to compute Marginal Propensity to consume(MPC) and elasticity to represent the effect."
   ]
  },
  {
   "cell_type": "markdown",
   "id": "e8cd0979",
   "metadata": {},
   "source": [
    "# 1 Import Data"
   ]
  },
  {
   "cell_type": "markdown",
   "id": "e58e2571",
   "metadata": {},
   "source": [
    "## 1.1 EU "
   ]
  },
  {
   "cell_type": "code",
   "execution_count": 1,
   "id": "4b9a5d42",
   "metadata": {},
   "outputs": [],
   "source": [
    " #Make sure to install ecbdata first\n",
    " #Run this line in terminal if not installed:\n",
    " #pip install ecbdata"
   ]
  },
  {
   "cell_type": "code",
   "execution_count": null,
   "id": "c50b6f90",
   "metadata": {},
   "outputs": [
    {
     "name": "stdout",
     "output_type": "stream",
     "text": [
      "Current working directory: /Users/Jared/Documents/GitHub/graspp-25S-Wealth-Consumption\n",
      "EU Data downloaded successfully.\n"
     ]
    }
   ],
   "source": [
    "import pandas as pd\n",
    "import matplotlib.pyplot as plt\n",
    "from ecbdata import ecbdata\n",
    "import os\n",
    "\n",
    "# Move to project root\n",
    "while not os.path.isdir(\"notebooks\"):\n",
    "    os.chdir(\"..\")\n",
    "print(f\"Current working directory: {os.getcwd()}\")\n",
    "\n",
    "# Define save directory\n",
    "save_dir = os.path.join(\"src\", \"raw data\")\n",
    "os.makedirs(save_dir, exist_ok=True)\n",
    "\n",
    "# Download ECB data\n",
    "df = ecbdata.get_series('MNA.Q.Y.I9.W0.S1M.S1.D.P31._Z._Z._T.EUR.V.N')\n",
    "df1 = ecbdata.get_series('DWA.Q.I9.S14.A.LE.NUN.HST.EUR.S.N')\n",
    "\n",
    "# Save to CSV\n",
    "df.to_csv(os.path.join(save_dir, \"consumption.csv\"))\n",
    "df1.to_csv(os.path.join(save_dir, \"housing_wealth.csv\"))\n",
    "\n",
    "print(\"EU Data downloaded successfully.\")"
   ]
  },
  {
   "cell_type": "markdown",
   "id": "ab587264",
   "metadata": {},
   "source": [
    "## 1.2 Japan"
   ]
  },
  {
   "cell_type": "markdown",
   "id": "4629c7b6",
   "metadata": {},
   "source": [
    "### 1.2.1 Resource\n",
    "\n",
    "- **Consumption**: Household consumption expenditure (from Family Income and Expenditure Survey - 家計調査)\n",
    "- **Housing Wealth**: Fixed assets (housing component) from National Accounts (SNA)\n",
    "- **Stock Market Wealth**: Household financial assets (specifically \"stocks\") from National Accounts (SNA)\n",
    "- **Income**: Compensation of employees from National Accounts (SNA)"
   ]
  },
  {
   "cell_type": "markdown",
   "id": "eab17d40",
   "metadata": {},
   "source": [
    "### 1.2.2 Download Data\n",
    "- Download household consumption data."
   ]
  },
  {
   "cell_type": "code",
   "execution_count": 1,
   "id": "0f6a6582",
   "metadata": {},
   "outputs": [
    {
     "name": "stdout",
     "output_type": "stream",
     "text": [
      "Current directory: /Users/Jared/Documents/GitHub/graspp-25S-Wealth-Consumption\n",
      "Download completed and saved as 'notebooks/data/raw data/japan/household_consumption.xlsx'.\n"
     ]
    }
   ],
   "source": [
    "import os\n",
    "import requests\n",
    "\n",
    "# --- Move to project root ---\n",
    "# This code ensures you are always at the project root\n",
    "while not os.path.isdir(\"notebooks\"):\n",
    "    os.chdir(\"..\")\n",
    "print(f\"Current directory: {os.getcwd()}\")\n",
    "\n",
    "# --- Create directory if it doesn't exist ---\n",
    "save_dir = \"notebooks/data/raw data/japan\"\n",
    "os.makedirs(save_dir, exist_ok=True)\n",
    "\n",
    "# --- Define file path ---\n",
    "save_path = os.path.join(save_dir, \"household_consumption.xlsx\")\n",
    "\n",
    "# --- Download URL ---\n",
    "url = \"https://www.esri.cao.go.jp/jp/sna/data/data_list/kakuhou/files/2023/tables/2023ffm1n_jp.xlsx\"\n",
    "\n",
    "# --- Download and Save ---\n",
    "response = requests.get(url)\n",
    "with open(save_path, 'wb') as f:\n",
    "    f.write(response.content)\n",
    "\n",
    "print(f\"Download completed and saved as '{save_path}'.\")\n"
   ]
  },
  {
   "cell_type": "markdown",
   "id": "bb640eaf",
   "metadata": {},
   "source": [
    "- Download stock market wealth data.\n",
    "- Download houseing wealth data."
   ]
  },
  {
   "cell_type": "code",
   "execution_count": 2,
   "id": "c5bb8d61",
   "metadata": {},
   "outputs": [
    {
     "name": "stdout",
     "output_type": "stream",
     "text": [
      "Current directory: /Users/Jared/Documents/GitHub/graspp-25S-Wealth-Consumption\n",
      "Download completed and saved as 'notebooks/data/raw data/japan/household_stock.xlsx'.\n"
     ]
    }
   ],
   "source": [
    "import os\n",
    "import requests\n",
    "\n",
    "# --- Move to project root ---\n",
    "# This code ensures you are always at the project root\n",
    "while not os.path.isdir(\"notebooks\"):\n",
    "    os.chdir(\"..\")\n",
    "print(f\"Current directory: {os.getcwd()}\")\n",
    "\n",
    "# --- Create directory if it doesn't exist ---\n",
    "save_dir = \"notebooks/data/raw data/japan\"\n",
    "os.makedirs(save_dir, exist_ok=True)\n",
    "\n",
    "# --- Define file path ---\n",
    "save_path = os.path.join(save_dir, \"household_stock.xlsx\")\n",
    "\n",
    "# --- Download URL ---\n",
    "url = \"https://www.esri.cao.go.jp/jp/sna/data/data_list/kakuhou/files/2023/tables/2023si4_jp.xlsx\"\n",
    "\n",
    "# --- Download and Save ---\n",
    "response = requests.get(url)\n",
    "with open(save_path, 'wb') as f:\n",
    "    f.write(response.content)\n",
    "\n",
    "print(f\"Download completed and saved as '{save_path}'.\")\n"
   ]
  },
  {
   "cell_type": "markdown",
   "id": "6d8397a5",
   "metadata": {},
   "source": [
    "- Download income data (compensation of employees)."
   ]
  },
  {
   "cell_type": "code",
   "execution_count": 3,
   "id": "9d6f6f24",
   "metadata": {},
   "outputs": [
    {
     "name": "stdout",
     "output_type": "stream",
     "text": [
      "Current directory: /Users/Jared/Documents/GitHub/graspp-25S-Wealth-Consumption\n",
      "Employment income data downloaded and saved to 'notebooks/data/raw data/japan/employment_income.xlsx'.\n"
     ]
    }
   ],
   "source": [
    "import os\n",
    "import pandas as pd\n",
    "import requests\n",
    "\n",
    "# --- Move to project root ---\n",
    "while not os.path.isdir(\"notebooks\"):\n",
    "    os.chdir(\"..\")\n",
    "print(f\"Current directory: {os.getcwd()}\")\n",
    "\n",
    "# --- Create directory if it doesn't exist ---\n",
    "save_dir = \"notebooks/data/raw data/japan\"\n",
    "os.makedirs(save_dir, exist_ok=True)\n",
    "\n",
    "# --- Define file path ---\n",
    "save_path = os.path.join(save_dir, \"employment_income.xlsx\")\n",
    "\n",
    "# --- Download URL ---\n",
    "url = \"https://www.esri.cao.go.jp/jp/sna/data/data_list/kakuhou/files/2023/tables/2023ffm2_jp.xlsx\"\n",
    "\n",
    "# --- Download and Save ---\n",
    "response = requests.get(url)\n",
    "with open(save_path, 'wb') as f:\n",
    "    f.write(response.content)\n",
    "\n",
    "# --- Read back the file (optional step) ---\n",
    "df = pd.read_excel(save_path)\n",
    "\n",
    "# --- Re-save the file (optional, ensures formatting) ---\n",
    "df.to_excel(save_path, index=False)\n",
    "\n",
    "print(f\"Employment income data downloaded and saved to '{save_path}'.\")\n"
   ]
  },
  {
   "cell_type": "markdown",
   "id": "caa7cd0e",
   "metadata": {},
   "source": [
    "# 2 Manipulate the data"
   ]
  },
  {
   "cell_type": "markdown",
   "id": "f7d649b1",
   "metadata": {},
   "source": [
    "## 2.1 EU"
   ]
  },
  {
   "cell_type": "code",
   "execution_count": 6,
   "id": "e694624a",
   "metadata": {},
   "outputs": [],
   "source": [
    "#Manipulate to what we want\n",
    "data = df[['TIME_PERIOD','OBS_VALUE','UNIT_MEASURE']].dropna()\n",
    "data.head(2)\n",
    "data = data.rename({'TIME_PERIOD' : 'date','OBS_VALUE':'consumption'},axis=1)\n",
    "data.date = pd.PeriodIndex(data.date, freq='Q').to_timestamp()\n",
    "data = data[(data['date'] >= '2009-01-01') & (data['date']<= '2024-07-01')]\n",
    "\n",
    "\n",
    "data1= df1[['TIME_PERIOD','OBS_VALUE','UNIT_MEASURE']].dropna()\n",
    "data1 = data1.rename({'TIME_PERIOD' : 'date','OBS_VALUE':'housing wealth'},axis=1)\n",
    "data1.date = pd.PeriodIndex(data1.date, freq='Q').to_timestamp()\n",
    "data1 = data1[(data1['date'] >= '2009-01-01') & (data1['date']<= '2024-07-01')]"
   ]
  },
  {
   "cell_type": "markdown",
   "id": "4f4a17f6",
   "metadata": {},
   "source": [
    "## 2.2 Japan"
   ]
  },
  {
   "cell_type": "markdown",
   "id": "8e85c92a",
   "metadata": {},
   "source": [
    "- Manipulate household consumption data."
   ]
  },
  {
   "cell_type": "code",
   "execution_count": 4,
   "id": "78f5df04",
   "metadata": {},
   "outputs": [
    {
     "name": "stdout",
     "output_type": "stream",
     "text": [
      "Working directory set to: /Users/Jared/Documents/GitHub/graspp-25S-Wealth-Consumption\n",
      "Processed data saved to: notebooks/data/processing_data/japan/processed_household_consumption.csv\n"
     ]
    }
   ],
   "source": [
    "import os\n",
    "import sys\n",
    "import pandas as pd\n",
    "\n",
    "# --- Move to project root safely ---\n",
    "while not os.path.isdir(\"notebooks\"):\n",
    "    os.chdir(\"..\")\n",
    "print(f\"Working directory set to: {os.getcwd()}\")\n",
    "\n",
    "# --- Add 'src' to sys.path ---\n",
    "sys.path.append(\"src\")\n",
    "from data_function.extract_household_consumption import extract_household_consumption\n",
    "\n",
    "# --- Define paths ---\n",
    "save_path = \"notebooks/data/raw data/japan/household_consumption.xlsx\"\n",
    "processed_dir = \"notebooks/data/processing_data/japan/\"\n",
    "processed_path = os.path.join(processed_dir, \"processed_household_consumption.csv\")\n",
    "\n",
    "# --- Create directory if not exists ---\n",
    "os.makedirs(os.path.dirname(save_path), exist_ok=True)\n",
    "os.makedirs(processed_dir, exist_ok=True)\n",
    "\n",
    "# --- Extract and save ---\n",
    "consumption_data = extract_household_consumption(save_path)\n",
    "consumption_data.to_csv(processed_path, index=False)\n",
    "\n",
    "print(f\"Processed data saved to: {processed_path}\")\n"
   ]
  },
  {
   "cell_type": "markdown",
   "id": "8759c04e",
   "metadata": {},
   "source": [
    "- Manipulate\n",
    "  - stock market wealth data.\n",
    "  - houseing wealth data."
   ]
  },
  {
   "cell_type": "code",
   "execution_count": 5,
   "id": "26459430",
   "metadata": {},
   "outputs": [
    {
     "name": "stdout",
     "output_type": "stream",
     "text": [
      "Working directory set to: /Users/Jared/Documents/GitHub/graspp-25S-Wealth-Consumption\n",
      "Processed data saved to: notebooks/data/processing_data/japan/processed_household_stock.csv\n"
     ]
    }
   ],
   "source": [
    "import os\n",
    "import sys\n",
    "import pandas as pd\n",
    "\n",
    "# --- Move to project root safely ---\n",
    "while not os.path.isdir(\"notebooks\"):\n",
    "    os.chdir(\"..\")\n",
    "print(f\"Working directory set to: {os.getcwd()}\")\n",
    "\n",
    "# --- Add 'src' to sys.path ---\n",
    "sys.path.append(\"src\")\n",
    "from data_function.extract_housing_and_stock import extract_housing_and_stock\n",
    "\n",
    "# --- Define paths ---\n",
    "file_path = \"notebooks/data/raw data/japan/household_stock.xlsx\"\n",
    "processed_dir = \"notebooks/data/processing_data/japan/\"\n",
    "processed_path = os.path.join(processed_dir, \"processed_household_stock.csv\")\n",
    "\n",
    "# --- Create directories if not exist ---\n",
    "os.makedirs(os.path.dirname(file_path), exist_ok=True)\n",
    "os.makedirs(processed_dir, exist_ok=True)\n",
    "\n",
    "# --- Extract and save ---\n",
    "processed_data = extract_housing_and_stock(file_path)\n",
    "processed_data.to_csv(processed_path, index=False)\n",
    "\n",
    "print(f\"Processed data saved to: {processed_path}\")\n"
   ]
  },
  {
   "cell_type": "markdown",
   "id": "69047cfc",
   "metadata": {},
   "source": [
    "- Manipulate income data (compensation of employees)."
   ]
  },
  {
   "cell_type": "code",
   "execution_count": 7,
   "id": "b60af4a2",
   "metadata": {},
   "outputs": [
    {
     "name": "stdout",
     "output_type": "stream",
     "text": [
      "Working directory set to: /Users/Jared/Documents/GitHub/graspp-25S-Wealth-Consumption\n",
      "Processed employment income data saved to: notebooks/data/processing_data/japan/processed_employment_income.csv\n"
     ]
    }
   ],
   "source": [
    "import os\n",
    "import sys\n",
    "import pandas as pd\n",
    "\n",
    "# --- Move to project root safely ---\n",
    "while not os.path.isdir(\"notebooks\"):\n",
    "    os.chdir(\"..\")\n",
    "print(f\"Working directory set to: {os.getcwd()}\")\n",
    "\n",
    "# --- Add 'src' to sys.path ---\n",
    "sys.path.append(\"src\")\n",
    "from data_function.extract_employment_income import extract_employment_income\n",
    "\n",
    "# --- Define paths ---\n",
    "file_path = \"notebooks/data/raw data/japan/employment_income.xlsx\"\n",
    "processed_dir = \"notebooks/data/processing_data/japan/\"\n",
    "processed_path = os.path.join(processed_dir, \"processed_employment_income.csv\")\n",
    "\n",
    "# --- Create directories if not exist ---\n",
    "os.makedirs(os.path.dirname(file_path), exist_ok=True)\n",
    "os.makedirs(processed_dir, exist_ok=True)\n",
    "\n",
    "# --- Extract and save ---\n",
    "processed_employment_income = extract_employment_income(file_path)\n",
    "processed_employment_income.to_csv(processed_path, index=False)\n",
    "\n",
    "print(f\"Processed employment income data saved to: {processed_path}\")\n"
   ]
  },
  {
   "cell_type": "markdown",
   "id": "abe78e39",
   "metadata": {},
   "source": [
    "# 3 Merge the data and present it in figure"
   ]
  },
  {
   "cell_type": "markdown",
   "id": "95b45e5e",
   "metadata": {},
   "source": [
    "## 3.1 EU"
   ]
  },
  {
   "cell_type": "code",
   "execution_count": 10,
   "id": "306a832d",
   "metadata": {},
   "outputs": [
    {
     "data": {
      "image/png": "[encoded data removed]",
      "text/plain": [
       "<Figure size 1000x600 with 1 Axes>"
      ]
     },
     "metadata": {},
     "output_type": "display_data"
    }
   ],
   "source": [
    "#Merge and present\n",
    "df_merge = pd.merge(\n",
    "    data, data1,\n",
    "    \n",
    "    how='inner', on =['date','UNIT_MEASURE']\n",
    "    \n",
    ")\n",
    "df_merge.head(10)\n",
    "\n",
    "plt.figure(figsize=(10, 6))\n",
    "plt.plot(df_merge['date'], df_merge['consumption'], label='Consumption')\n",
    "plt.plot(df_merge['date'], df_merge['housing wealth'], label='Housing wealth')\n",
    "plt.xlabel('Date')\n",
    "plt.ylabel('EUR')\n",
    "plt.title('Consumption and housing wealth Over Time')\n",
    "plt.grid(True)\n",
    "plt.legend()\n",
    "plt.xticks(rotation=45)\n",
    "plt.tight_layout()\n",
    "plt.show()"
   ]
  },
  {
   "cell_type": "markdown",
   "id": "388825f8",
   "metadata": {},
   "source": [
    "## 3.2 Japan"
   ]
  },
  {
   "cell_type": "code",
   "execution_count": 8,
   "id": "b9c7aaac",
   "metadata": {},
   "outputs": [
    {
     "name": "stdout",
     "output_type": "stream",
     "text": [
      "Current directory: /Users/Jared/Documents/GitHub/graspp-25S-Wealth-Consumption\n",
      "   year  household_consumption  fixed_asset  stock_asset  employment_income\n",
      "0  1994               266250.9     397066.4     130971.4           262822.6\n",
      "1  1995               271381.7     399831.5     128776.7           267095.2\n",
      "2  1996               278702.4     416861.5     118755.9           272962.4\n",
      "3  1997               279745.5     423410.6      86465.8           279054.2\n",
      "4  1998               278920.2     418589.8      80110.8           273370.2\n",
      "Index(['year', 'household_consumption', 'fixed_asset', 'stock_asset',\n",
      "       'employment_income'],\n",
      "      dtype='object')\n",
      "Merged dataset saved successfully at notebooks/data/clean/merged_macro_data.csv!\n"
     ]
    }
   ],
   "source": [
    "import os\n",
    "import pandas as pd\n",
    "\n",
    "# --- Move to project root safely ---\n",
    "while not os.path.isdir(\"notebooks\"):\n",
    "    os.chdir(\"..\")\n",
    "print(f\"Current directory: {os.getcwd()}\")\n",
    "\n",
    "# --- Define file paths ---\n",
    "raw_path = \"notebooks/data/processing_data/japan/\"\n",
    "clean_path = \"notebooks/data/clean/\"\n",
    "\n",
    "csv_files = {\n",
    "    \"household_consumption\": os.path.join(raw_path, \"processed_household_consumption.csv\"),\n",
    "    \"housing_stock_wealth\": os.path.join(raw_path, \"processed_household_stock.csv\"),\n",
    "    \"employee_income\": os.path.join(raw_path, \"processed_employment_income.csv\"),\n",
    "}\n",
    "\n",
    "# --- Read each dataset ---\n",
    "consumption = pd.read_csv(csv_files[\"household_consumption\"])\n",
    "housing_stock = pd.read_csv(csv_files[\"housing_stock_wealth\"])\n",
    "employee_income = pd.read_csv(csv_files[\"employee_income\"])\n",
    "\n",
    "# --- Merge on 'year' ---\n",
    "merged_data = consumption.merge(\n",
    "    housing_stock, on=\"year\", how=\"inner\"\n",
    ").merge(\n",
    "    employee_income, on=\"year\", how=\"inner\"\n",
    ")\n",
    "\n",
    "# --- Check merged dataset ---\n",
    "print(merged_data.head())\n",
    "print(merged_data.columns)\n",
    "\n",
    "# --- Round value columns ---\n",
    "value_columns = ['household_consumption', 'fixed_asset', 'stock_asset', 'employment_income']\n",
    "merged_data[value_columns] = merged_data[value_columns].round(0).astype(int)\n",
    "\n",
    "# --- Create clean directory if not exists ---\n",
    "os.makedirs(clean_path, exist_ok=True)\n",
    "\n",
    "# --- Save merged data ---\n",
    "merged_path = os.path.join(clean_path, \"merged_macro_data.csv\")\n",
    "merged_data.to_csv(merged_path, index=False)\n",
    "\n",
    "print(f\"Merged dataset saved successfully at {merged_path}!\")\n"
   ]
  },
  {
   "cell_type": "markdown",
   "id": "39a65007",
   "metadata": {},
   "source": [
    "# 4 Descriptive Statistics"
   ]
  },
  {
   "cell_type": "markdown",
   "id": "81b09472",
   "metadata": {},
   "source": [
    "## 4.1 EU"
   ]
  },
  {
   "cell_type": "code",
   "execution_count": null,
   "id": "462d8de9",
   "metadata": {},
   "outputs": [],
   "source": [
    "# Descriptive statistics\n",
    "plt.figure()\n",
    "plt.title('Consumption')\n",
    "df_merge['consumption'].describe().drop(['count'],axis=0).plot(kind ='bar')\n",
    "plt.figure()\n",
    "plt.title('Housing wealth')\n",
    "df_merge['housing wealth'].describe().drop(['count'],axis=0).plot(kind ='bar')\n"
   ]
  },
  {
   "cell_type": "markdown",
   "id": "573cc583",
   "metadata": {},
   "source": [
    "## 4.2 Japan"
   ]
  },
  {
   "cell_type": "code",
   "execution_count": 9,
   "id": "ec3d14b2",
   "metadata": {},
   "outputs": [
    {
     "name": "stdout",
     "output_type": "stream",
     "text": [
      "Current directory: /Users/Jared/Documents/GitHub/graspp-25S-Wealth-Consumption\n",
      "Descriptive Statistics (Original Data):\n",
      "              year  household_consumption    fixed_asset   stock_asset  \\\n",
      "count    30.000000              30.000000      30.000000      30.00000   \n",
      "mean   2008.500000          286519.100000  410729.966667  143437.70000   \n",
      "std       8.803408            9773.603498   13696.322105   48360.75906   \n",
      "min    1994.000000          266251.000000  385535.000000   80111.00000   \n",
      "25%    2001.250000          280426.750000  401289.750000  102274.25000   \n",
      "50%    2008.500000          283809.500000  409338.000000  134562.50000   \n",
      "75%    2015.750000          291108.250000  418097.250000  178615.50000   \n",
      "max    2023.000000          314756.000000  443824.000000  250212.00000   \n",
      "\n",
      "       employment_income  \n",
      "count          30.000000  \n",
      "mean       268422.100000  \n",
      "std         13729.709079  \n",
      "min        251155.000000  \n",
      "25%        257151.000000  \n",
      "50%        266433.500000  \n",
      "75%        273625.000000  \n",
      "max        302364.000000  \n",
      "\n",
      "Descriptive Statistics (Converted to Billion Yen):\n",
      "              year  household_consumption  fixed_asset  stock_asset  \\\n",
      "count    30.000000              30.000000    30.000000    30.000000   \n",
      "mean   2008.500000             286.519100   410.729967   143.437700   \n",
      "std       8.803408               9.773603    13.696322    48.360759   \n",
      "min    1994.000000             266.251000   385.535000    80.111000   \n",
      "25%    2001.250000             280.426750   401.289750   102.274250   \n",
      "50%    2008.500000             283.809500   409.338000   134.562500   \n",
      "75%    2015.750000             291.108250   418.097250   178.615500   \n",
      "max    2023.000000             314.756000   443.824000   250.212000   \n",
      "\n",
      "       employment_income  \n",
      "count          30.000000  \n",
      "mean          268.422100  \n",
      "std            13.729709  \n",
      "min           251.155000  \n",
      "25%           257.151000  \n",
      "50%           266.433500  \n",
      "75%           273.625000  \n",
      "max           302.364000  \n"
     ]
    }
   ],
   "source": [
    "# Import\n",
    "import pandas as pd\n",
    "import matplotlib.pyplot as plt\n",
    "import os\n",
    "\n",
    "# Move to project root safely\n",
    "while not os.path.isdir(\"notebooks\"):\n",
    "    os.chdir(\"..\")\n",
    "print(f\"Current directory: {os.getcwd()}\")\n",
    "\n",
    "# Load merged data\n",
    "merged_path = \"notebooks/data/clean/merged_macro_data.csv\"\n",
    "merged_data = pd.read_csv(merged_path)\n",
    "# Show descriptive statistics\n",
    "print(\"Descriptive Statistics (Original Data):\")\n",
    "print(merged_data.describe())\n",
    "\n",
    "# Convert values to billion yen (divide by 1000)\n",
    "value_columns = ['household_consumption', 'fixed_asset', 'stock_asset', 'employment_income']\n",
    "merged_data[value_columns] = merged_data[value_columns] / 1000\n",
    "\n",
    "# Show descriptive statistics again after conversion\n",
    "print(\"\\nDescriptive Statistics (Converted to Billion Yen):\")\n",
    "print(merged_data.describe())\n"
   ]
  },
  {
   "cell_type": "markdown",
   "id": "a4b1b5fe",
   "metadata": {},
   "source": [
    "# 5 Visualization"
   ]
  },
  {
   "cell_type": "markdown",
   "id": "d9b6b019",
   "metadata": {},
   "source": [
    "## 5.1 EU"
   ]
  },
  {
   "cell_type": "code",
   "execution_count": null,
   "id": "dd996534",
   "metadata": {},
   "outputs": [],
   "source": []
  },
  {
   "cell_type": "markdown",
   "id": "fbcd5ee0",
   "metadata": {},
   "source": [
    "## 5.2 Japan"
   ]
  },
  {
   "cell_type": "code",
   "execution_count": 11,
   "id": "6a8e3ccc",
   "metadata": {},
   "outputs": [
    {
     "data": {
      "image/png": "[encoded data removed]",
      "text/plain": [
       "<Figure size 1400x800 with 1 Axes>"
      ]
     },
     "metadata": {},
     "output_type": "display_data"
    }
   ],
   "source": [
    "# Plotting\n",
    "plt.figure(figsize=(14, 8))\n",
    "\n",
    "# Plot each variable\n",
    "for column in value_columns:\n",
    "    plt.plot(merged_data['year'], merged_data[column], label=column.replace('_', ' ').title())\n",
    "\n",
    "# Title and labels\n",
    "plt.title(\"Japanese Macroeconomic Indicators (1994-2023)\", fontsize=16)\n",
    "plt.xlabel(\"Year\", fontsize=14)\n",
    "plt.ylabel(\"Amount (Billion Yen)\", fontsize=14)\n",
    "plt.legend()\n",
    "plt.grid(True)\n",
    "\n",
    "# Save the figure if needed\n",
    "# plt.savefig(\"macro_data_trends.png\", dpi=300)\n",
    "\n",
    "plt.show()\n"
   ]
  },
  {
   "cell_type": "markdown",
   "id": "225a0b5a",
   "metadata": {},
   "source": [
    "# 6 Regression"
   ]
  },
  {
   "cell_type": "markdown",
   "id": "109ebc68",
   "metadata": {},
   "source": [
    "## 6.1 EU"
   ]
  },
  {
   "cell_type": "markdown",
   "id": "89c06d87",
   "metadata": {},
   "source": []
  },
  {
   "cell_type": "markdown",
   "id": "f8591c8d",
   "metadata": {},
   "source": [
    "## 6.2 Japan"
   ]
  },
  {
   "cell_type": "markdown",
   "id": "f7919663",
   "metadata": {},
   "source": [
    "### 6.2.1 Modeling"
   ]
  },
  {
   "cell_type": "markdown",
   "id": "02c4e3d7",
   "metadata": {},
   "source": [
    "Empirical Strategy\n",
    "\n",
    "- Convert all series to:\n",
    "  - **Real terms** (adjusted for inflation)\n",
    "  - **Per capita** (divided by total population)\n",
    "\n",
    "- Conduct a regression based on the following model:\n",
    "\n",
    "$$\n",
    "\\log C_{t} = \\alpha + \\beta \\log S_{t} + \\gamma \\log H_{t} + \\phi \\log Y_{t} + \\epsilon_{t}\n",
    "$$\n",
    "\n",
    "- Where:\n",
    "\n",
    "\\begin{array}{ll}\n",
    "C_{t} & : \\text{Household consumption} \\\\\n",
    "S_{t} & : \\text{Stock market wealth} \\\\\n",
    "H_{t} & : \\text{Housing wealth} \\\\\n",
    "Y_{t} & : \\text{Compensation of employees}\n",
    "\\end{array}\n",
    "\n",
    "\n",
    "Main Focus\n",
    "\n",
    "- Estimate and compare:\n",
    "\n",
    "\\begin{array}{ll}\n",
    "\\gamma & : \\text{Elasticity of consumption with respect to housing wealth} \\\\\n",
    "\\beta & : \\text{Elasticity of consumption with respect to stock market wealth}\n",
    "\\end{array}\n",
    "\n",
    "\n",
    "Goal\n",
    "\n",
    "- Understand the relative importance of housing and stock market wealth in driving household consumption behavior in Japan.\n"
   ]
  },
  {
   "cell_type": "markdown",
   "id": "fb9b1042",
   "metadata": {},
   "source": [
    " - Make values become log-transformed variables."
   ]
  },
  {
   "cell_type": "code",
   "execution_count": 10,
   "id": "1ade19dc",
   "metadata": {},
   "outputs": [
    {
     "name": "stdout",
     "output_type": "stream",
     "text": [
      "   log_household_consumption  log_fixed_asset  log_stock_asset  \\\n",
      "0                   5.584439         5.984103         4.874976   \n",
      "1                   5.603527         5.991044         4.858082   \n",
      "2                   5.630143         6.032755         4.777071   \n",
      "3                   5.633882         6.048343         4.459751   \n",
      "4                   5.630925         6.036892         4.383413   \n",
      "\n",
      "   log_employment_income  \n",
      "0               5.571481  \n",
      "1               5.587604  \n",
      "2               5.609333  \n",
      "3               5.631405  \n",
      "4               5.610826  \n"
     ]
    }
   ],
   "source": [
    "import numpy as np \n",
    "\n",
    "# Create log-transformed variables\n",
    "merged_data[\"log_household_consumption\"] = np.log(merged_data[\"household_consumption\"])\n",
    "merged_data[\"log_fixed_asset\"] = np.log(merged_data[\"fixed_asset\"])\n",
    "merged_data[\"log_stock_asset\"] = np.log(merged_data[\"stock_asset\"])\n",
    "merged_data[\"log_employment_income\"] = np.log(merged_data[\"employment_income\"])\n",
    "\n",
    "# Check\n",
    "print(merged_data[[\"log_household_consumption\", \"log_fixed_asset\", \"log_stock_asset\", \"log_employment_income\"]].head())\n"
   ]
  },
  {
   "cell_type": "markdown",
   "id": "6ab2d918",
   "metadata": {},
   "source": [
    "### 6.2.2 OLS"
   ]
  },
  {
   "cell_type": "code",
   "execution_count": 13,
   "id": "9289b83b",
   "metadata": {},
   "outputs": [
    {
     "name": "stdout",
     "output_type": "stream",
     "text": [
      "                                OLS Regression Results                               \n",
      "=====================================================================================\n",
      "Dep. Variable:     log_household_consumption   R-squared:                       0.524\n",
      "Model:                                   OLS   Adj. R-squared:                  0.469\n",
      "Method:                        Least Squares   F-statistic:                     9.536\n",
      "Date:                       Mon, 12 May 2025   Prob (F-statistic):           0.000202\n",
      "Time:                               11:09:39   Log-Likelihood:                 70.763\n",
      "No. Observations:                         30   AIC:                            -133.5\n",
      "Df Residuals:                             26   BIC:                            -127.9\n",
      "Df Model:                                  3                                         \n",
      "Covariance Type:                   nonrobust                                         \n",
      "=========================================================================================\n",
      "                            coef    std err          t      P>|t|      [0.025      0.975]\n",
      "-----------------------------------------------------------------------------------------\n",
      "const                     3.4987      0.847      4.128      0.000       1.757       5.241\n",
      "log_fixed_asset           0.2938      0.205      1.437      0.163      -0.127       0.714\n",
      "log_stock_asset           0.0560      0.017      3.327      0.003       0.021       0.091\n",
      "log_employment_income     0.0207      0.158      0.131      0.897      -0.304       0.345\n",
      "==============================================================================\n",
      "Omnibus:                        3.822   Durbin-Watson:                   0.654\n",
      "Prob(Omnibus):                  0.148   Jarque-Bera (JB):                3.007\n",
      "Skew:                          -0.775   Prob(JB):                        0.222\n",
      "Kurtosis:                       2.974   Cond. No.                     1.85e+03\n",
      "==============================================================================\n",
      "\n",
      "Notes:\n",
      "[1] Standard Errors assume that the covariance matrix of the errors is correctly specified.\n",
      "[2] The condition number is large, 1.85e+03. This might indicate that there are\n",
      "strong multicollinearity or other numerical problems.\n"
     ]
    }
   ],
   "source": [
    "import numpy as np\n",
    "import pandas as pd\n",
    "import statsmodels.api as sm\n",
    "\n",
    "# Assuming 'data' is your DataFrame\n",
    "# Prepare independent variables\n",
    "X = merged_data[[\"log_fixed_asset\", \"log_stock_asset\", \"log_employment_income\"]]\n",
    "X = sm.add_constant(X)  # Adds a constant term (intercept)\n",
    "\n",
    "# Prepare dependent variable\n",
    "y = merged_data[\"log_household_consumption\"]\n",
    "\n",
    "# Run OLS regression\n",
    "model = sm.OLS(y, X).fit()\n",
    "\n",
    "# Show results\n",
    "print(model.summary())\n"
   ]
  },
  {
   "cell_type": "markdown",
   "id": "67f31a8b",
   "metadata": {},
   "source": [
    "### → Findings from the Results\n",
    "\n",
    "### Coefficient Interpretations\n",
    "\n",
    "- **`log_stock_asset` (Stock Market Wealth)**\n",
    "  - **Coefficient (β) = 0.0560**, **p-value = 0.003** → **Statistically significant at the 1% level**.\n",
    "  - → **An increase in stock market wealth is strongly associated with higher household consumption**.\n",
    "\n",
    "- **`log_fixed_asset` (presumably Housing Wealth)**\n",
    "  - **Coefficient (γ) = 0.2938**, **p-value = 0.163** → **Not statistically significant (even at the 10% level)**.\n",
    "  - → **The relationship between housing wealth and consumption appears weak and statistically insignificant**.\n",
    "\n",
    "- **`log_employment_income` (Compensation of Employees)**\n",
    "  - **Coefficient = 0.0207**, **p-value = 0.897** → **Highly insignificant**.\n",
    "  - → **No detectable effect of employment income on consumption in this model**.\n",
    "\n",
    "### Model Fit\n",
    "\n",
    "- **R-squared = 0.524** → **Moderate explanatory power** (the model explains about 52% of the variation in household consumption).\n",
    "\n",
    "### Cautions\n",
    "\n",
    "- The **Condition Number is large (1850)**, which suggests **potential multicollinearity**.\n",
    "\n",
    "---\n",
    "\n",
    "### Summary (in brief)\n",
    "- **Stock market wealth has a small but statistically significant positive effect on consumption.**\n",
    "- **Housing wealth shows a larger coefficient but is not statistically significant.**\n",
    "- **Employment income appears irrelevant for consumption dynamics in this model.**\n",
    "- **Maybe multicollinearity issues occurs.**\n"
   ]
  },
  {
   "cell_type": "markdown",
   "id": "e8887bfb",
   "metadata": {},
   "source": [
    "### 6.2.3 Other Regression"
   ]
  },
  {
   "cell_type": "markdown",
   "id": "50197ead",
   "metadata": {},
   "source": [
    "#### 6.2.3.1 Robust OLS"
   ]
  },
  {
   "cell_type": "code",
   "execution_count": 14,
   "id": "6f25acb1",
   "metadata": {},
   "outputs": [
    {
     "name": "stdout",
     "output_type": "stream",
     "text": [
      "                                OLS Regression Results                               \n",
      "=====================================================================================\n",
      "Dep. Variable:     log_household_consumption   R-squared:                       0.524\n",
      "Model:                                   OLS   Adj. R-squared:                  0.469\n",
      "Method:                        Least Squares   F-statistic:                     7.351\n",
      "Date:                       Mon, 12 May 2025   Prob (F-statistic):            0.00101\n",
      "Time:                               11:09:43   Log-Likelihood:                 70.763\n",
      "No. Observations:                         30   AIC:                            -133.5\n",
      "Df Residuals:                             26   BIC:                            -127.9\n",
      "Df Model:                                  3                                         \n",
      "Covariance Type:                         HC3                                         \n",
      "=========================================================================================\n",
      "                            coef    std err          z      P>|z|      [0.025      0.975]\n",
      "-----------------------------------------------------------------------------------------\n",
      "const                     3.4987      1.116      3.136      0.002       1.312       5.685\n",
      "log_fixed_asset           0.2938      0.257      1.142      0.253      -0.210       0.798\n",
      "log_stock_asset           0.0560      0.014      4.093      0.000       0.029       0.083\n",
      "log_employment_income     0.0207      0.165      0.125      0.901      -0.303       0.345\n",
      "==============================================================================\n",
      "Omnibus:                        3.822   Durbin-Watson:                   0.654\n",
      "Prob(Omnibus):                  0.148   Jarque-Bera (JB):                3.007\n",
      "Skew:                          -0.775   Prob(JB):                        0.222\n",
      "Kurtosis:                       2.974   Cond. No.                     1.85e+03\n",
      "==============================================================================\n",
      "\n",
      "Notes:\n",
      "[1] Standard Errors are heteroscedasticity robust (HC3)\n",
      "[2] The condition number is large, 1.85e+03. This might indicate that there are\n",
      "strong multicollinearity or other numerical problems.\n"
     ]
    }
   ],
   "source": [
    "import statsmodels.api as sm\n",
    "\n",
    "# Add constant term\n",
    "X = sm.add_constant(X)\n",
    "\n",
    "# Fit OLS with robust standard errors (HC3 type)\n",
    "robust_ols_model = sm.OLS(y, X).fit(cov_type='HC3')\n",
    "\n",
    "# Show summary\n",
    "print(robust_ols_model.summary())"
   ]
  },
  {
   "cell_type": "markdown",
   "id": "3c98a881",
   "metadata": {},
   "source": [
    "#### 6.2.3.2 GLS (Generalized Least Squares)"
   ]
  },
  {
   "cell_type": "code",
   "execution_count": 15,
   "id": "7d1c112b",
   "metadata": {},
   "outputs": [
    {
     "name": "stdout",
     "output_type": "stream",
     "text": [
      "                                GLS Regression Results                               \n",
      "=====================================================================================\n",
      "Dep. Variable:     log_household_consumption   R-squared:                       0.524\n",
      "Model:                                   GLS   Adj. R-squared:                  0.469\n",
      "Method:                        Least Squares   F-statistic:                     9.536\n",
      "Date:                       Mon, 12 May 2025   Prob (F-statistic):           0.000202\n",
      "Time:                               11:09:45   Log-Likelihood:                 70.763\n",
      "No. Observations:                         30   AIC:                            -133.5\n",
      "Df Residuals:                             26   BIC:                            -127.9\n",
      "Df Model:                                  3                                         \n",
      "Covariance Type:                   nonrobust                                         \n",
      "=========================================================================================\n",
      "                            coef    std err          t      P>|t|      [0.025      0.975]\n",
      "-----------------------------------------------------------------------------------------\n",
      "const                     3.4987      0.847      4.128      0.000       1.757       5.241\n",
      "log_fixed_asset           0.2938      0.205      1.437      0.163      -0.127       0.714\n",
      "log_stock_asset           0.0560      0.017      3.327      0.003       0.021       0.091\n",
      "log_employment_income     0.0207      0.158      0.131      0.897      -0.304       0.345\n",
      "==============================================================================\n",
      "Omnibus:                        3.822   Durbin-Watson:                   0.654\n",
      "Prob(Omnibus):                  0.148   Jarque-Bera (JB):                3.007\n",
      "Skew:                          -0.775   Prob(JB):                        0.222\n",
      "Kurtosis:                       2.974   Cond. No.                     1.85e+03\n",
      "==============================================================================\n",
      "\n",
      "Notes:\n",
      "[1] Standard Errors assume that the covariance matrix of the errors is correctly specified.\n",
      "[2] The condition number is large, 1.85e+03. This might indicate that there are\n",
      "strong multicollinearity or other numerical problems.\n"
     ]
    }
   ],
   "source": [
    "# Fit Generalized Least Squares (assumes known structure of heteroscedasticity or correlation)\n",
    "gls_model = sm.GLS(y, X).fit()\n",
    "\n",
    "# Show summary\n",
    "print(gls_model.summary())"
   ]
  },
  {
   "cell_type": "markdown",
   "id": "8c2235b3",
   "metadata": {},
   "source": [
    "#### 6.2.3.3 GLM (Generalized Linear Model)"
   ]
  },
  {
   "cell_type": "code",
   "execution_count": 16,
   "id": "53da8ad1",
   "metadata": {},
   "outputs": [
    {
     "name": "stdout",
     "output_type": "stream",
     "text": [
      "                     Generalized Linear Model Regression Results                     \n",
      "=====================================================================================\n",
      "Dep. Variable:     log_household_consumption   No. Observations:                   30\n",
      "Model:                                   GLM   Df Residuals:                       26\n",
      "Model Family:                       Gaussian   Df Model:                            3\n",
      "Link Function:                      Identity   Scale:                      0.00060377\n",
      "Method:                                 IRLS   Log-Likelihood:                 70.763\n",
      "Date:                       Mon, 12 May 2025   Deviance:                     0.015698\n",
      "Time:                               11:09:47   Pearson chi2:                   0.0157\n",
      "No. Iterations:                            3   Pseudo R-squ. (CS):             0.6184\n",
      "Covariance Type:                   nonrobust                                         \n",
      "=========================================================================================\n",
      "                            coef    std err          z      P>|z|      [0.025      0.975]\n",
      "-----------------------------------------------------------------------------------------\n",
      "const                     3.4987      0.847      4.128      0.000       1.838       5.160\n",
      "log_fixed_asset           0.2938      0.205      1.437      0.151      -0.107       0.695\n",
      "log_stock_asset           0.0560      0.017      3.327      0.001       0.023       0.089\n",
      "log_employment_income     0.0207      0.158      0.131      0.896      -0.288       0.330\n",
      "=========================================================================================\n"
     ]
    }
   ],
   "source": [
    "# Fit Generalized Linear Model with Gaussian family (similar to OLS)\n",
    "glm_model = sm.GLM(y, X, family=sm.families.Gaussian()).fit()\n",
    "\n",
    "# Show summary\n",
    "print(glm_model.summary())\n"
   ]
  },
  {
   "cell_type": "markdown",
   "id": "2b309541",
   "metadata": {},
   "source": [
    "## Summary of Findings (Based on GLM Results)\n",
    "\n",
    "### Research Question 1:\n",
    "**How does the elasticity of consumption with respect to different types of household wealth differ?**\n",
    "- Stock market wealth has a **significant positive effect** on consumption.\n",
    "- Housing wealth appears more elastic but **is not statistically significant**.\n",
    "- Income shows **no explanatory power** in this specification.\n",
    "\n",
    "### Research Question 2:\n",
    "**What are the differences in elasticity between housing and stock market wealth in Japan?**\n",
    "\n",
    "- The **elasticity of housing wealth (0.29)** is higher than that of stock market wealth (0.056).\n",
    "- However, only the effect of **stock market wealth is statistically significant**.\n",
    "- Conclusion: **Only stock market wealth can be confirmed to influence consumption reliably** in this model.\n",
    "\n",
    "### Remaining Issues\n",
    "\n",
    "1. **Statistical insignificance of housing wealth**  \n",
    "   → May require more data or alternative modeling techniques.\n",
    "\n",
    "2. **No checks for time series assumptions**  \n",
    "   → Stationarity (ADF test) and autocorrelation (Durbin-Watson) still need to be verified."
   ]
  },
  {
   "cell_type": "markdown",
   "id": "8389a949",
   "metadata": {},
   "source": []
  }
 ],
 "metadata": {
  "kernelspec": {
   "display_name": "Python 3",
   "language": "python",
   "name": "python3"
  },
  "language_info": {
   "codemirror_mode": {
    "name": "ipython",
    "version": 3
   },
   "file_extension": ".py",
   "mimetype": "text/x-python",
   "name": "python",
   "nbconvert_exporter": "python",
   "pygments_lexer": "ipython3",
   "version": "3.12.0"
  }
 },
 "nbformat": 4,
 "nbformat_minor": 5
}
